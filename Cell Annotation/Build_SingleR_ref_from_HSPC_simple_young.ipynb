{
 "cells": [
  {
   "cell_type": "code",
   "execution_count": 1,
   "metadata": {},
   "outputs": [],
   "source": [
    "import os\n",
    "import numpy as np\n",
    "import pandas as pd"
   ]
  },
  {
   "cell_type": "code",
   "execution_count": 2,
   "metadata": {},
   "outputs": [],
   "source": [
    "# import HSPC\n",
    "hspc = pd.read_csv(\"C:/Users/petar/Documents/USC/Research/Rong_Lab/scRNAseq/Pre-processing_clustering_annotation/GEXC_pipe/HSPC_simple_young_all_preprocessed.csv\")"
   ]
  },
  {
   "cell_type": "code",
   "execution_count": 3,
   "metadata": {},
   "outputs": [],
   "source": [
    "# process HSPC\n",
    "hspc_mask = (\n",
    "    (hspc.data_type == 'HSPC_simple_young') &\n",
    "    (hspc.Sample != 'Sample_average') &\n",
    "    (hspc.cell_type.isin(['CLP', 'CMP', 'Flk2n_MPP', 'Flk2p_MPP', 'GMP', 'HSC', 'MEP']))\n",
    ")\n",
    "\n",
    "hspc_8ct_long = hspc[hspc_mask].dropna()\n",
    "\n",
    "hspc_8ct_long['n_Sample'] = hspc_8ct_long.apply(lambda x: x['cell_type']+'_'+x['Sample'].split('_')[1], axis=1)\n",
    "\n",
    "hspc_8ct_wide = hspc_8ct_long.pivot_table(\n",
    "    values='value',\n",
    "    index='gene_name',\n",
    "    columns='n_Sample',\n",
    "    aggfunc='mean'\n",
    ")"
   ]
  },
  {
   "cell_type": "code",
   "execution_count": 4,
   "metadata": {},
   "outputs": [
    {
     "data": {
      "text/plain": [
       "(17919, 24)"
      ]
     },
     "execution_count": 4,
     "metadata": {},
     "output_type": "execute_result"
    }
   ],
   "source": [
    "hspc_8ct_wide.shape"
   ]
  },
  {
   "cell_type": "code",
   "execution_count": 5,
   "metadata": {},
   "outputs": [
    {
     "data": {
      "text/plain": [
       "<bound method NDFrame.head of n_Sample            CLP_     CLP_.1     CLP_.2       CMP_     CMP_.1  \\\n",
       "gene_name                                                              \n",
       "0610005C13Rik   4.260000   3.980000   4.210000   4.830000   4.110000   \n",
       "0610009B22Rik   8.710000   8.660000   8.860000   8.620000   8.630000   \n",
       "0610009L18Rik   8.220000   7.880000   8.090000   8.070000   7.190000   \n",
       "0610010F05Rik   8.000000   7.975000   7.930000   7.465000   8.070000   \n",
       "0610012G03Rik   7.973333   8.060000   8.230000   8.226667   7.743333   \n",
       "...                  ...        ...        ...        ...        ...   \n",
       "Zzef1           7.616667   7.936667   7.343333   7.723333   7.543333   \n",
       "Zzz3            9.735000   9.765000   9.475000   8.955000   9.440000   \n",
       "a               4.830000   4.500000   4.540000   5.190000   4.710000   \n",
       "ccdc198         4.140000   3.930000   3.910000   4.540000   3.770000   \n",
       "mt-Nd5         12.100000  11.890000  12.060000  11.590000  11.470000   \n",
       "\n",
       "n_Sample          CMP_.2  Flk2n_MPP_  Flk2n_MPP_.1  Flk2n_MPP_.2  \\\n",
       "gene_name                                                          \n",
       "0610005C13Rik   3.990000       3.990      4.630000      4.480000   \n",
       "0610009B22Rik   8.400000       9.330      9.680000      9.280000   \n",
       "0610009L18Rik   7.200000       9.020      9.050000      9.250000   \n",
       "0610010F05Rik   7.310000       8.030      7.720000      7.725000   \n",
       "0610012G03Rik   7.766667       7.550      7.860000      7.723333   \n",
       "...                  ...         ...           ...           ...   \n",
       "Zzef1           7.766667       7.960      8.323333      8.116667   \n",
       "Zzz3            8.760000      10.225      9.700000      9.875000   \n",
       "a               4.370000       4.340      4.490000      4.830000   \n",
       "ccdc198         4.180000       3.950      3.810000      3.830000   \n",
       "mt-Nd5         12.050000      11.690     11.580000     11.730000   \n",
       "\n",
       "n_Sample       Flk2n_MPP_.3  ...       GMP_     GMP_.1     GMP_.2       HSC_  \\\n",
       "gene_name                    ...                                               \n",
       "0610005C13Rik      3.930000  ...   4.460000   4.510000   4.130000   4.410000   \n",
       "0610009B22Rik      9.270000  ...   8.800000   8.690000   8.580000   9.540000   \n",
       "0610009L18Rik      9.570000  ...   6.570000   6.420000   6.560000   9.940000   \n",
       "0610010F05Rik      7.765000  ...   7.720000   7.770000   8.000000   7.365000   \n",
       "0610012G03Rik      7.780000  ...   7.610000   7.503333   7.503333   7.843333   \n",
       "...                     ...  ...        ...        ...        ...        ...   \n",
       "Zzef1              8.046667  ...   7.346667   7.330000   7.190000   8.340000   \n",
       "Zzz3              10.000000  ...   9.705000   9.695000   9.870000   9.355000   \n",
       "a                  4.450000  ...   4.880000   5.050000   4.940000   4.730000   \n",
       "ccdc198            3.890000  ...   4.200000   4.060000   3.940000   4.210000   \n",
       "mt-Nd5            11.860000  ...  12.300000  12.540000  12.580000  12.240000   \n",
       "\n",
       "n_Sample          HSC_.1     HSC_.2     HSC_.3       MEP_     MEP_.1  \\\n",
       "gene_name                                                              \n",
       "0610005C13Rik   4.320000   4.560000   4.310000   4.150000   4.270000   \n",
       "0610009B22Rik   9.530000   8.840000   9.160000   8.780000   8.830000   \n",
       "0610009L18Rik   9.930000   9.530000   9.820000   6.190000   6.230000   \n",
       "0610010F05Rik   7.260000   7.435000   7.310000   7.710000   7.915000   \n",
       "0610012G03Rik   7.776667   7.430000   7.950000   7.816667   7.703333   \n",
       "...                  ...        ...        ...        ...        ...   \n",
       "Zzef1           8.476667   8.516667   8.306667   7.590000   7.656667   \n",
       "Zzz3            9.670000  10.120000  10.095000  10.190000  10.285000   \n",
       "a               4.290000   4.480000   4.550000   4.900000   4.940000   \n",
       "ccdc198         3.900000   4.060000   4.190000   4.100000   3.970000   \n",
       "mt-Nd5         11.560000  11.850000  11.450000  12.570000  12.760000   \n",
       "\n",
       "n_Sample          MEP_.2  \n",
       "gene_name                 \n",
       "0610005C13Rik   4.330000  \n",
       "0610009B22Rik   8.800000  \n",
       "0610009L18Rik   6.190000  \n",
       "0610010F05Rik   7.920000  \n",
       "0610012G03Rik   7.903333  \n",
       "...                  ...  \n",
       "Zzef1           7.720000  \n",
       "Zzz3           10.115000  \n",
       "a               4.760000  \n",
       "ccdc198         3.850000  \n",
       "mt-Nd5         12.660000  \n",
       "\n",
       "[17919 rows x 24 columns]>"
      ]
     },
     "execution_count": 5,
     "metadata": {},
     "output_type": "execute_result"
    }
   ],
   "source": [
    "hspc_8ct_wide.head"
   ]
  },
  {
   "cell_type": "code",
   "execution_count": 6,
   "metadata": {},
   "outputs": [],
   "source": [
    "# save file\n",
    "hspc_8ct_wide.to_csv('C:/Users/petar/Documents/USC/Research/Rong_Lab/scRNAseq/Pre-processing_clustering_annotation/HSPC_simple_young_SingleR_ref_8ct_02182022.csv')"
   ]
  }
 ],
 "metadata": {
  "kernelspec": {
   "display_name": "Python 3 (ipykernel)",
   "language": "python",
   "name": "python3"
  },
  "language_info": {
   "codemirror_mode": {
    "name": "ipython",
    "version": 3
   },
   "file_extension": ".py",
   "mimetype": "text/x-python",
   "name": "python",
   "nbconvert_exporter": "python",
   "pygments_lexer": "ipython3",
   "version": "3.9.7"
  }
 },
 "nbformat": 4,
 "nbformat_minor": 4
}
